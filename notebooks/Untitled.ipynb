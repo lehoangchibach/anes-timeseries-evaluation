{
 "cells": [
  {
   "cell_type": "code",
   "execution_count": 1,
   "id": "70557287-e00b-44e5-9b48-54a93aef5012",
   "metadata": {},
   "outputs": [],
   "source": [
    "import json\n",
    "import numpy"
   ]
  },
  {
   "cell_type": "code",
   "execution_count": 2,
   "id": "3f8965bf-a2c8-4d3c-966e-f59f88a34a86",
   "metadata": {},
   "outputs": [
    {
     "ename": "JSONDecodeError",
     "evalue": "Expecting property name enclosed in double quotes: line 1 column 2 (char 1)",
     "output_type": "error",
     "traceback": [
      "\u001b[31m---------------------------------------------------------------------------\u001b[39m",
      "\u001b[31mJSONDecodeError\u001b[39m                           Traceback (most recent call last)",
      "\u001b[36mCell\u001b[39m\u001b[36m \u001b[39m\u001b[32mIn[2]\u001b[39m\u001b[32m, line 2\u001b[39m\n\u001b[32m      1\u001b[39m data = \u001b[33m\"\u001b[39m\u001b[33m{{\u001b[39m\u001b[33m1, 1/5, -23/55, 3/55, -1/3, -1/55, -3/55, -23/165, -1/3, -1/55, 71/165, -41/165}, \u001b[39m\u001b[33m{\u001b[39m\u001b[33m1/5, 1, 17/55, 9/55, -1/55, 79/165, -49/165, -9/55, -21/55, 31/165, -31/165, -107/165}, \u001b[39m\u001b[33m{\u001b[39m\u001b[33m-23/55, 17/55, 1, -7/55, 41/165, 73/165, -21/55, -19/55, 67/165, 9/55, -89/165, -7/55}, \u001b[39m\u001b[33m{\u001b[39m\u001b[33m3/55, 9/55, -7/55, 1, -7/33, 73/165, 7/165, -19/33, -3/55, 83/165, -47/165, -3/55}, \u001b[39m\u001b[33m{\u001b[39m\u001b[33m-1/3, -1/55, 41/165, -7/33, 1, 1/165, -1/165, 13/33, 17/55, -41/165, -17/55, -31/165}, \u001b[39m\u001b[33m{\u001b[39m\u001b[33m-1/55, 79/165, 73/165, 73/165, 1/165, 1, -61/165, -83/165, 7/55, 79/165, -9/11, -25/33}, \u001b[39m\u001b[33m{\u001b[39m\u001b[33m-3/55, -49/165, -21/55, 7/165, -1/165, -61/165, 1, 47/165, 19/55, 13/165, 7/33, 47/165}, \u001b[39m\u001b[33m{\u001b[39m\u001b[33m-23/165, -9/55, -19/55, -19/33, 13/33, -83/165, 47/165, 1, -9/55, -41/165, 61/165, 1/33}, \u001b[39m\u001b[33m{\u001b[39m\u001b[33m-1/3, -21/55, 67/165, -3/55, 17/55, 7/55, 19/55, -9/55, 1, -7/33, -89/165, 7/55}, \u001b[39m\u001b[33m{\u001b[39m\u001b[33m-1/55, 31/165, 9/55, 83/165, -41/165, 79/165, 13/165, -41/165, -7/33, 1, -7/55, -5/33}, \u001b[39m\u001b[33m{\u001b[39m\u001b[33m71/165, -31/165, -89/165, -47/165, -17/55, -9/11, 7/33, 61/165, -89/165, -7/55, 1, 89/165}, \u001b[39m\u001b[33m{\u001b[39m\u001b[33m-41/165, -107/165, -7/55, -3/55, -31/165, -25/33, 47/165, 1/33, 7/55, -5/33, 89/165, 1}}\u001b[39m\u001b[33m\"\u001b[39m\n\u001b[32m----> \u001b[39m\u001b[32m2\u001b[39m data = \u001b[43mjson\u001b[49m\u001b[43m.\u001b[49m\u001b[43mloads\u001b[49m\u001b[43m(\u001b[49m\u001b[43mdata\u001b[49m\u001b[43m)\u001b[49m\n\u001b[32m      3\u001b[39m data\n",
      "\u001b[36mFile \u001b[39m\u001b[32m~/anaconda3/envs/anes-evaluation/lib/python3.11/json/__init__.py:346\u001b[39m, in \u001b[36mloads\u001b[39m\u001b[34m(s, cls, object_hook, parse_float, parse_int, parse_constant, object_pairs_hook, **kw)\u001b[39m\n\u001b[32m    341\u001b[39m     s = s.decode(detect_encoding(s), \u001b[33m'\u001b[39m\u001b[33msurrogatepass\u001b[39m\u001b[33m'\u001b[39m)\n\u001b[32m    343\u001b[39m \u001b[38;5;28;01mif\u001b[39;00m (\u001b[38;5;28mcls\u001b[39m \u001b[38;5;129;01mis\u001b[39;00m \u001b[38;5;28;01mNone\u001b[39;00m \u001b[38;5;129;01mand\u001b[39;00m object_hook \u001b[38;5;129;01mis\u001b[39;00m \u001b[38;5;28;01mNone\u001b[39;00m \u001b[38;5;129;01mand\u001b[39;00m\n\u001b[32m    344\u001b[39m         parse_int \u001b[38;5;129;01mis\u001b[39;00m \u001b[38;5;28;01mNone\u001b[39;00m \u001b[38;5;129;01mand\u001b[39;00m parse_float \u001b[38;5;129;01mis\u001b[39;00m \u001b[38;5;28;01mNone\u001b[39;00m \u001b[38;5;129;01mand\u001b[39;00m\n\u001b[32m    345\u001b[39m         parse_constant \u001b[38;5;129;01mis\u001b[39;00m \u001b[38;5;28;01mNone\u001b[39;00m \u001b[38;5;129;01mand\u001b[39;00m object_pairs_hook \u001b[38;5;129;01mis\u001b[39;00m \u001b[38;5;28;01mNone\u001b[39;00m \u001b[38;5;129;01mand\u001b[39;00m \u001b[38;5;129;01mnot\u001b[39;00m kw):\n\u001b[32m--> \u001b[39m\u001b[32m346\u001b[39m     \u001b[38;5;28;01mreturn\u001b[39;00m \u001b[43m_default_decoder\u001b[49m\u001b[43m.\u001b[49m\u001b[43mdecode\u001b[49m\u001b[43m(\u001b[49m\u001b[43ms\u001b[49m\u001b[43m)\u001b[49m\n\u001b[32m    347\u001b[39m \u001b[38;5;28;01mif\u001b[39;00m \u001b[38;5;28mcls\u001b[39m \u001b[38;5;129;01mis\u001b[39;00m \u001b[38;5;28;01mNone\u001b[39;00m:\n\u001b[32m    348\u001b[39m     \u001b[38;5;28mcls\u001b[39m = JSONDecoder\n",
      "\u001b[36mFile \u001b[39m\u001b[32m~/anaconda3/envs/anes-evaluation/lib/python3.11/json/decoder.py:337\u001b[39m, in \u001b[36mJSONDecoder.decode\u001b[39m\u001b[34m(self, s, _w)\u001b[39m\n\u001b[32m    332\u001b[39m \u001b[38;5;28;01mdef\u001b[39;00m\u001b[38;5;250m \u001b[39m\u001b[34mdecode\u001b[39m(\u001b[38;5;28mself\u001b[39m, s, _w=WHITESPACE.match):\n\u001b[32m    333\u001b[39m \u001b[38;5;250m    \u001b[39m\u001b[33;03m\"\"\"Return the Python representation of ``s`` (a ``str`` instance\u001b[39;00m\n\u001b[32m    334\u001b[39m \u001b[33;03m    containing a JSON document).\u001b[39;00m\n\u001b[32m    335\u001b[39m \n\u001b[32m    336\u001b[39m \u001b[33;03m    \"\"\"\u001b[39;00m\n\u001b[32m--> \u001b[39m\u001b[32m337\u001b[39m     obj, end = \u001b[38;5;28;43mself\u001b[39;49m\u001b[43m.\u001b[49m\u001b[43mraw_decode\u001b[49m\u001b[43m(\u001b[49m\u001b[43ms\u001b[49m\u001b[43m,\u001b[49m\u001b[43m \u001b[49m\u001b[43midx\u001b[49m\u001b[43m=\u001b[49m\u001b[43m_w\u001b[49m\u001b[43m(\u001b[49m\u001b[43ms\u001b[49m\u001b[43m,\u001b[49m\u001b[43m \u001b[49m\u001b[32;43m0\u001b[39;49m\u001b[43m)\u001b[49m\u001b[43m.\u001b[49m\u001b[43mend\u001b[49m\u001b[43m(\u001b[49m\u001b[43m)\u001b[49m\u001b[43m)\u001b[49m\n\u001b[32m    338\u001b[39m     end = _w(s, end).end()\n\u001b[32m    339\u001b[39m     \u001b[38;5;28;01mif\u001b[39;00m end != \u001b[38;5;28mlen\u001b[39m(s):\n",
      "\u001b[36mFile \u001b[39m\u001b[32m~/anaconda3/envs/anes-evaluation/lib/python3.11/json/decoder.py:353\u001b[39m, in \u001b[36mJSONDecoder.raw_decode\u001b[39m\u001b[34m(self, s, idx)\u001b[39m\n\u001b[32m    344\u001b[39m \u001b[38;5;250m\u001b[39m\u001b[33;03m\"\"\"Decode a JSON document from ``s`` (a ``str`` beginning with\u001b[39;00m\n\u001b[32m    345\u001b[39m \u001b[33;03ma JSON document) and return a 2-tuple of the Python\u001b[39;00m\n\u001b[32m    346\u001b[39m \u001b[33;03mrepresentation and the index in ``s`` where the document ended.\u001b[39;00m\n\u001b[32m   (...)\u001b[39m\u001b[32m    350\u001b[39m \n\u001b[32m    351\u001b[39m \u001b[33;03m\"\"\"\u001b[39;00m\n\u001b[32m    352\u001b[39m \u001b[38;5;28;01mtry\u001b[39;00m:\n\u001b[32m--> \u001b[39m\u001b[32m353\u001b[39m     obj, end = \u001b[38;5;28;43mself\u001b[39;49m\u001b[43m.\u001b[49m\u001b[43mscan_once\u001b[49m\u001b[43m(\u001b[49m\u001b[43ms\u001b[49m\u001b[43m,\u001b[49m\u001b[43m \u001b[49m\u001b[43midx\u001b[49m\u001b[43m)\u001b[49m\n\u001b[32m    354\u001b[39m \u001b[38;5;28;01mexcept\u001b[39;00m \u001b[38;5;167;01mStopIteration\u001b[39;00m \u001b[38;5;28;01mas\u001b[39;00m err:\n\u001b[32m    355\u001b[39m     \u001b[38;5;28;01mraise\u001b[39;00m JSONDecodeError(\u001b[33m\"\u001b[39m\u001b[33mExpecting value\u001b[39m\u001b[33m\"\u001b[39m, s, err.value) \u001b[38;5;28;01mfrom\u001b[39;00m\u001b[38;5;250m \u001b[39m\u001b[38;5;28;01mNone\u001b[39;00m\n",
      "\u001b[31mJSONDecodeError\u001b[39m: Expecting property name enclosed in double quotes: line 1 column 2 (char 1)"
     ]
    }
   ],
   "source": [
    "data = \"{{1, 1/5, -23/55, 3/55, -1/3, -1/55, -3/55, -23/165, -1/3, -1/55, 71/165, -41/165}, {1/5, 1, 17/55, 9/55, -1/55, 79/165, -49/165, -9/55, -21/55, 31/165, -31/165, -107/165}, {-23/55, 17/55, 1, -7/55, 41/165, 73/165, -21/55, -19/55, 67/165, 9/55, -89/165, -7/55}, {3/55, 9/55, -7/55, 1, -7/33, 73/165, 7/165, -19/33, -3/55, 83/165, -47/165, -3/55}, {-1/3, -1/55, 41/165, -7/33, 1, 1/165, -1/165, 13/33, 17/55, -41/165, -17/55, -31/165}, {-1/55, 79/165, 73/165, 73/165, 1/165, 1, -61/165, -83/165, 7/55, 79/165, -9/11, -25/33}, {-3/55, -49/165, -21/55, 7/165, -1/165, -61/165, 1, 47/165, 19/55, 13/165, 7/33, 47/165}, {-23/165, -9/55, -19/55, -19/33, 13/33, -83/165, 47/165, 1, -9/55, -41/165, 61/165, 1/33}, {-1/3, -21/55, 67/165, -3/55, 17/55, 7/55, 19/55, -9/55, 1, -7/33, -89/165, 7/55}, {-1/55, 31/165, 9/55, 83/165, -41/165, 79/165, 13/165, -41/165, -7/33, 1, -7/55, -5/33}, {71/165, -31/165, -89/165, -47/165, -17/55, -9/11, 7/33, 61/165, -89/165, -7/55, 1, 89/165}, {-41/165, -107/165, -7/55, -3/55, -31/165, -25/33, 47/165, 1/33, 7/55, -5/33, 89/165, 1}}\"\n",
    "data = json.loads(data)\n",
    "data"
   ]
  },
  {
   "cell_type": "code",
   "execution_count": null,
   "id": "2dfccb62-ba88-42ec-9fb7-287d40a6e351",
   "metadata": {},
   "outputs": [],
   "source": []
  }
 ],
 "metadata": {
  "kernelspec": {
   "display_name": "Python 3 (ipykernel)",
   "language": "python",
   "name": "python3"
  },
  "language_info": {
   "codemirror_mode": {
    "name": "ipython",
    "version": 3
   },
   "file_extension": ".py",
   "mimetype": "text/x-python",
   "name": "python",
   "nbconvert_exporter": "python",
   "pygments_lexer": "ipython3",
   "version": "3.11.13"
  }
 },
 "nbformat": 4,
 "nbformat_minor": 5
}
